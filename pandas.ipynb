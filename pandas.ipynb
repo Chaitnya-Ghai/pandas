{
 "cells": [
  {
   "cell_type": "code",
   "execution_count": 1,
   "id": "9922044f-469c-455b-8766-d20dc7f64a6d",
   "metadata": {},
   "outputs": [
    {
     "name": "stdout",
     "output_type": "stream",
     "text": [
      "done\n"
     ]
    }
   ],
   "source": [
    "import pandas as pd\n",
    "print(\"done\")"
   ]
  },
  {
   "cell_type": "code",
   "execution_count": 3,
   "id": "6f4a7b50-e68f-4129-a6ae-1daf4c06db53",
   "metadata": {},
   "outputs": [],
   "source": [
    "# series\n",
    "l1=[1,2,3,4,5]\n",
    "series = pd.Series(l1)"
   ]
  },
  {
   "cell_type": "code",
   "execution_count": 5,
   "id": "9600be39-2740-4029-9d23-ce6c3e83fb0c",
   "metadata": {},
   "outputs": [
    {
     "data": {
      "text/plain": [
       "0    1\n",
       "1    2\n",
       "2    3\n",
       "3    4\n",
       "4    5\n",
       "dtype: int64"
      ]
     },
     "execution_count": 5,
     "metadata": {},
     "output_type": "execute_result"
    }
   ],
   "source": [
    "series"
   ]
  },
  {
   "cell_type": "code",
   "execution_count": 17,
   "id": "5aaf0315-b38a-4c86-9bad-859a94143c10",
   "metadata": {},
   "outputs": [
    {
     "data": {
      "text/plain": [
       "5"
      ]
     },
     "execution_count": 17,
     "metadata": {},
     "output_type": "execute_result"
    }
   ],
   "source": [
    "series[4]"
   ]
  },
  {
   "cell_type": "code",
   "execution_count": 7,
   "id": "23af7d3a-e888-4ea8-83ad-4218fa240cf3",
   "metadata": {},
   "outputs": [
    {
     "data": {
      "text/plain": [
       "pandas.core.series.Series"
      ]
     },
     "execution_count": 7,
     "metadata": {},
     "output_type": "execute_result"
    }
   ],
   "source": [
    "type(series)"
   ]
  },
  {
   "cell_type": "code",
   "execution_count": 9,
   "id": "a66c4ae2-fd91-441a-9824-b0c0c191a360",
   "metadata": {},
   "outputs": [],
   "source": [
    "str = pd.Series( ('p','y','t','h','o','n') )"
   ]
  },
  {
   "cell_type": "code",
   "execution_count": 11,
   "id": "c6948ea3-5e51-457f-8257-49b865065fac",
   "metadata": {},
   "outputs": [
    {
     "data": {
      "text/plain": [
       "0    p\n",
       "1    y\n",
       "2    t\n",
       "3    h\n",
       "4    o\n",
       "5    n\n",
       "dtype: object"
      ]
     },
     "execution_count": 11,
     "metadata": {},
     "output_type": "execute_result"
    }
   ],
   "source": [
    "str"
   ]
  },
  {
   "cell_type": "code",
   "execution_count": 19,
   "id": "a728d418-19dd-4d06-9e53-73725ab62fd2",
   "metadata": {},
   "outputs": [
    {
     "data": {
      "text/plain": [
       "DatetimeIndex(['2025-01-20', '2025-01-21', '2025-01-22', '2025-01-23',\n",
       "               '2025-01-24', '2025-01-25', '2025-01-26', '2025-01-27',\n",
       "               '2025-01-28', '2025-01-29',\n",
       "               ...\n",
       "               '2026-01-15', '2026-01-16', '2026-01-17', '2026-01-18',\n",
       "               '2026-01-19', '2026-01-20', '2026-01-21', '2026-01-22',\n",
       "               '2026-01-23', '2026-01-24'],\n",
       "              dtype='datetime64[ns]', length=370, freq='D')"
      ]
     },
     "execution_count": 19,
     "metadata": {},
     "output_type": "execute_result"
    }
   ],
   "source": [
    "date_series = pd.date_range(start = \"01-20-2025\" , end= '01-24-2026')#month-date-yr\n",
    "date_series"
   ]
  },
  {
   "cell_type": "code",
   "execution_count": 21,
   "id": "90006c06-df99-472a-b120-9170e3cea7db",
   "metadata": {},
   "outputs": [
    {
     "data": {
      "text/plain": [
       "pandas.core.indexes.datetimes.DatetimeIndex"
      ]
     },
     "execution_count": 21,
     "metadata": {},
     "output_type": "execute_result"
    }
   ],
   "source": [
    "type(date_series)"
   ]
  },
  {
   "cell_type": "code",
   "execution_count": 25,
   "id": "efdae4b3-6cc9-4a7a-b381-aa29c1e9f28a",
   "metadata": {},
   "outputs": [
    {
     "name": "stdout",
     "output_type": "stream",
     "text": [
      "all the months: \n",
      "Index([1, 1, 1, 1, 1, 1, 1, 1, 1, 1,\n",
      "       ...\n",
      "       1, 1, 1, 1, 1, 1, 1, 1, 1, 1],\n",
      "      dtype='int32', length=370)\n",
      "\n"
     ]
    }
   ],
   "source": [
    "print('all the months: ', date_series.month , sep='\\n',end='\\n\\n')"
   ]
  },
  {
   "cell_type": "code",
   "execution_count": 27,
   "id": "5eeb591a-5d7e-4307-9d58-3e06e1660b17",
   "metadata": {},
   "outputs": [
    {
     "name": "stdout",
     "output_type": "stream",
     "text": [
      "all the yr: \n",
      "Index([2025, 2025, 2025, 2025, 2025, 2025, 2025, 2025, 2025, 2025,\n",
      "       ...\n",
      "       2026, 2026, 2026, 2026, 2026, 2026, 2026, 2026, 2026, 2026],\n",
      "      dtype='int32', length=370)\n",
      "\n"
     ]
    }
   ],
   "source": [
    "print('all the yr: ', date_series.year , sep='\\n',end='\\n\\n')"
   ]
  },
  {
   "cell_type": "code",
   "execution_count": 29,
   "id": "f059587f-4ad5-4c97-b4ed-1c4427dfaae9",
   "metadata": {},
   "outputs": [
    {
     "name": "stdout",
     "output_type": "stream",
     "text": [
      "all the months: \n",
      "Index(['January', 'January', 'January', 'January', 'January', 'January',\n",
      "       'January', 'January', 'January', 'January',\n",
      "       ...\n",
      "       'January', 'January', 'January', 'January', 'January', 'January',\n",
      "       'January', 'January', 'January', 'January'],\n",
      "      dtype='object', length=370)\n",
      "\n"
     ]
    }
   ],
   "source": [
    "print('all the months: ', date_series.month_name() , sep='\\n',end='\\n\\n')"
   ]
  },
  {
   "cell_type": "code",
   "execution_count": 31,
   "id": "546ff3ef-afe5-4615-9e52-69118b28b951",
   "metadata": {},
   "outputs": [],
   "source": [
    "Series= pd.Series(l1 , index = [100,101,102,103,104])"
   ]
  },
  {
   "cell_type": "code",
   "execution_count": 33,
   "id": "652ece36-eaa6-4afd-92f2-6985300a9d5b",
   "metadata": {},
   "outputs": [
    {
     "data": {
      "text/plain": [
       "100    1\n",
       "101    2\n",
       "102    3\n",
       "103    4\n",
       "104    5\n",
       "dtype: int64"
      ]
     },
     "execution_count": 33,
     "metadata": {},
     "output_type": "execute_result"
    }
   ],
   "source": [
    "Series"
   ]
  }
 ],
 "metadata": {
  "kernelspec": {
   "display_name": "Python 3 (ipykernel)",
   "language": "python",
   "name": "python3"
  },
  "language_info": {
   "codemirror_mode": {
    "name": "ipython",
    "version": 3
   },
   "file_extension": ".py",
   "mimetype": "text/x-python",
   "name": "python",
   "nbconvert_exporter": "python",
   "pygments_lexer": "ipython3",
   "version": "3.12.7"
  }
 },
 "nbformat": 4,
 "nbformat_minor": 5
}
